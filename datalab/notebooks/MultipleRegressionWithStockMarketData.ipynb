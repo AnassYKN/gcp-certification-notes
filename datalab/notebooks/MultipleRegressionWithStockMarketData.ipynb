{
 "cells": [
  {
   "cell_type": "code",
   "execution_count": 1,
   "metadata": {},
   "outputs": [],
   "source": [
    "import pandas as pd \n",
    "import numpy as np"
   ]
  },
  {
   "cell_type": "code",
   "execution_count": 2,
   "metadata": {},
   "outputs": [],
   "source": [
    "def read_goog_sp500_dataframe():\n",
    "  \"\"\"Returns a dataframe with the results for Google and S&P 500\"\"\"\n",
    "  \n",
    "  # Point to where you've stored the CSV file on your local machine\n",
    "  googFile = 'data/GOOG.csv'\n",
    "  spFile = 'data/SP_500.csv'\n",
    "\n",
    "  goog = pd.read_csv(googFile, sep=\",\", usecols=[0,5], names=['Date','Goog'], header=0)\n",
    "  sp = pd.read_csv(spFile, sep=\",\", usecols=[0,5], names=['Date','SP500'], header=0)\n",
    "\n",
    "  goog['SP500'] = sp['SP500']\n",
    "\n",
    "  # The date object is a string, format it as a date\n",
    "  goog['Date'] = pd.to_datetime(goog['Date'], format='%Y-%m-%d')\n",
    "\n",
    "  goog = goog.sort_values(['Date'], ascending=[True])\n",
    "\n",
    "  returns = goog[[key for key in dict(goog.dtypes) if dict(goog.dtypes)[key] in ['float64', 'int64']]]\\\n",
    "            .pct_change()\n",
    "\n",
    "  return returns"
   ]
  },
  {
   "cell_type": "code",
   "execution_count": 3,
   "metadata": {},
   "outputs": [],
   "source": [
    "def read_goog_sp500_logistic_data():\n",
    "  \"\"\"Returns a dataframe with the results for Google and \n",
    "  S&P 500 set up for logistic regression\"\"\"\n",
    "  returns = read_goog_sp500_dataframe()\n",
    "\n",
    "  returns['Intercept'] = 1\n",
    "\n",
    "  # Leave out the first row since it will not have a prediction for UP/DOWN\n",
    "  # Leave out the last row as it will not have a value for returns\n",
    "  # Resultant dataframe with the S&P500 and intercept values of all 1s\n",
    "  xData = np.array(returns[[\"SP500\", \"Intercept\"]][1:-1])\n",
    "\n",
    "  yData = (returns[\"Goog\"] > 0)[1:-1]\n",
    "\n",
    "  return (xData, yData)"
   ]
  },
  {
   "cell_type": "code",
   "execution_count": 4,
   "metadata": {},
   "outputs": [],
   "source": [
    "def read_goog_sp500_data():\n",
    "  \"\"\"Returns a tuple with 2 fields, the returns for Google and the S&P 500.\n",
    "  Each of the returns are in the form of a 1D array\"\"\"\n",
    "\n",
    "  returns = read_goog_sp500_dataframe()\n",
    "\n",
    "  # Filter out the very first row which does not have any value for returns\n",
    "  xData = np.array(returns[\"SP500\"])[1:]\n",
    "  yData = np.array(returns[\"Goog\"])[1:]\n",
    "\n",
    "  return (xData, yData)"
   ]
  },
  {
   "cell_type": "code",
   "execution_count": 11,
   "metadata": {},
   "outputs": [],
   "source": [
    "def read_xom_oil_nasdaq_data():\n",
    "  \"\"\"Returns a tuple with 3 fields, the returns for Exxon Mobil, Nasdaq and oil prices.\n",
    "  Each of the returns are in the form of a 1D array\"\"\"\n",
    "\n",
    "  def readFile(filename):\n",
    "    # Only read in the date and price at columns 0 and 5\n",
    "    data = pd.read_csv(filename, sep=\",\", usecols=[0, 5], names=['Date', 'Price'], header=0)\n",
    "\n",
    "    # Sort the data in ascending order of date so returns can be calculated\n",
    "    data['Date'] = pd.to_datetime(data['Date'], format='%Y-%m-%d')\n",
    "\n",
    "    data = data.sort_values(['Date'], ascending=[True])\n",
    "\n",
    "    # Exclude the date from the percentage change calculation\n",
    "    returns = data[[key for key in dict(data.dtypes) if dict(data.dtypes)[key] in ['float64', 'int64']]]\\\n",
    "              .pct_change()\n",
    "\n",
    "    # Filter out the very first row which has no returns associated with it\n",
    "    return np.array(returns[\"Price\"])[2:]\n",
    "\n",
    "  nasdaqData = readFile('data/NASDAQ.csv')\n",
    "  oilData = readFile('data/USO.csv')\n",
    "  xomData = readFile('data/XOM.csv')\n",
    "\n",
    "  return (nasdaqData, oilData, xomData)"
   ]
  },
  {
   "cell_type": "code",
   "execution_count": 12,
   "metadata": {},
   "outputs": [],
   "source": [
    "import numpy as np\n",
    "from sklearn import datasets, linear_model"
   ]
  },
  {
   "cell_type": "code",
   "execution_count": 13,
   "metadata": {},
   "outputs": [],
   "source": [
    "nasdaqData, oilData, xomData = read_xom_oil_nasdaq_data()"
   ]
  },
  {
   "cell_type": "code",
   "execution_count": 15,
   "metadata": {},
   "outputs": [],
   "source": [
    "combined = np.vstack((nasdaqData , oilData)).T"
   ]
  },
  {
   "cell_type": "markdown",
   "metadata": {},
   "source": [
    "[[1,2,3],[4,5,6]] -> [[1,4],[2,5],[3,6]]"
   ]
  },
  {
   "cell_type": "code",
   "execution_count": 19,
   "metadata": {},
   "outputs": [],
   "source": [
    "xomNasdaqOilModel = linear_model.LinearRegression()"
   ]
  },
  {
   "cell_type": "code",
   "execution_count": 20,
   "metadata": {},
   "outputs": [
    {
     "data": {
      "text/plain": [
       "0.23141361518987388"
      ]
     },
     "execution_count": 20,
     "metadata": {},
     "output_type": "execute_result"
    }
   ],
   "source": [
    "xomNasdaqOilModel.fit(combined, xomData)\n",
    "xomNasdaqOilModel.score(combined, xomData)"
   ]
  },
  {
   "cell_type": "code",
   "execution_count": 21,
   "metadata": {},
   "outputs": [
    {
     "name": "stdout",
     "output_type": "stream",
     "text": [
      "[0.25176347 0.14783892]\n",
      "0.0029041590931545604\n"
     ]
    }
   ],
   "source": [
    "print xomNasdaqOilModel.coef_\n",
    "print xomNasdaqOilModel.intercept_"
   ]
  },
  {
   "cell_type": "code",
   "execution_count": 22,
   "metadata": {},
   "outputs": [
    {
     "name": "stderr",
     "output_type": "stream",
     "text": [
      "/usr/local/envs/py2env/lib/python2.7/site-packages/h5py/__init__.py:36: FutureWarning: Conversion of the second argument of issubdtype from `float` to `np.floating` is deprecated. In future, it will be treated as `np.float64 == np.dtype(float).type`.\n",
      "  from ._conv import register_converters as _register_converters\n"
     ]
    }
   ],
   "source": [
    "import tensorflow as tf"
   ]
  },
  {
   "cell_type": "code",
   "execution_count": 24,
   "metadata": {},
   "outputs": [],
   "source": [
    "# Model linear regression y = W1x1 + W2x2 + b\n",
    "nasdaq_W = tf.Variable(tf.zeros([1, 1]), name=\"nasdaq_W\")\n",
    "oil_W = tf.Variable(tf.zeros([1, 1]), name=\"oil_W\")"
   ]
  },
  {
   "cell_type": "code",
   "execution_count": 25,
   "metadata": {},
   "outputs": [],
   "source": [
    "b = tf.Variable(tf.zeros([1]), name=\"b\")"
   ]
  },
  {
   "cell_type": "code",
   "execution_count": 26,
   "metadata": {},
   "outputs": [],
   "source": [
    "nasdaq_x = tf.placeholder(tf.float32, [None, 1], name=\"nasdaq_x\")\n",
    "oil_x = tf.placeholder(tf.float32, [None, 1], name=\"oil_x\")"
   ]
  },
  {
   "cell_type": "code",
   "execution_count": 27,
   "metadata": {},
   "outputs": [],
   "source": [
    "nasdaq_Wx = tf.matmul(nasdaq_x, nasdaq_W)\n",
    "oil_Wx = tf.matmul(oil_x, oil_W)"
   ]
  },
  {
   "cell_type": "code",
   "execution_count": 28,
   "metadata": {},
   "outputs": [],
   "source": [
    "y = nasdaq_Wx + oil_Wx + b"
   ]
  },
  {
   "cell_type": "code",
   "execution_count": 29,
   "metadata": {},
   "outputs": [],
   "source": [
    "y_ = tf.placeholder(tf.float32, [None, 1])"
   ]
  },
  {
   "cell_type": "code",
   "execution_count": 30,
   "metadata": {},
   "outputs": [],
   "source": [
    "cost = tf.reduce_mean(tf.square(y_ - y))"
   ]
  },
  {
   "cell_type": "code",
   "execution_count": 31,
   "metadata": {},
   "outputs": [],
   "source": [
    "train_step_ftrl = tf.train.FtrlOptimizer(1).minimize(cost)"
   ]
  },
  {
   "cell_type": "code",
   "execution_count": 32,
   "metadata": {},
   "outputs": [],
   "source": [
    "all_x_nasdaq = nasdaqData.reshape(-1, 1)\n",
    "all_x_oil = oilData.reshape(-1, 1)\n",
    "all_ys = xomData.reshape(-1, 1)"
   ]
  },
  {
   "cell_type": "code",
   "execution_count": 33,
   "metadata": {},
   "outputs": [],
   "source": [
    "dataset_size = len(oilData)"
   ]
  },
  {
   "cell_type": "code",
   "execution_count": 35,
   "metadata": {},
   "outputs": [],
   "source": [
    "def trainWithMultiplePointsPerEpoch(steps, train_step, batch_size):\n",
    "\n",
    "  init = tf.global_variables_initializer()\n",
    "\n",
    "  with tf.Session() as sess:\n",
    "    sess.run(init)\n",
    "\n",
    "    for i in range(steps):\n",
    "\n",
    "      if dataset_size == batch_size:\n",
    "        batch_start_idx = 0\n",
    "      elif dataset_size < batch_size:\n",
    "        raise ValueError(\"dataset_size: %d, must be greater than batch_size: %d\" % (dataset_size, batch_size))\n",
    "      else:\n",
    "        batch_start_idx = (i * batch_size) % dataset_size\n",
    "\n",
    "      batch_end_idx = batch_start_idx + batch_size\n",
    "\n",
    "      batch_x_nasdaq = all_x_nasdaq[batch_start_idx : batch_end_idx]\n",
    "      batch_x_oil = all_x_oil[batch_start_idx : batch_end_idx]\n",
    "      batch_ys = all_ys[batch_start_idx : batch_end_idx]\n",
    "\n",
    "      feed = { nasdaq_x: batch_x_nasdaq, oil_x: batch_x_oil, y_: batch_ys }\n",
    "\n",
    "      sess.run(train_step_ftrl, feed_dict=feed)\n",
    "\n",
    "      # Print result to screen for every 500 iterations\n",
    "      if (i + 1) % 500 == 0:\n",
    "        print(\"After %d iteration:\" % i)\n",
    "        print(\"W1: %s\" % sess.run(nasdaq_W))\n",
    "        print(\"W2: %s\" % sess.run(oil_W))\n",
    "        print(\"b: %f\" % sess.run(b))\n",
    "\n",
    "        print(\"cost: %f\" % sess.run(cost, feed_dict=feed))"
   ]
  },
  {
   "cell_type": "code",
   "execution_count": 36,
   "metadata": {},
   "outputs": [
    {
     "name": "stdout",
     "output_type": "stream",
     "text": [
      "After 499 iteration:\n",
      "W1: [[0.25132117]]\n",
      "W2: [[0.14797106]]\n",
      "b: 0.002909\n",
      "cost: 0.001683\n",
      "After 999 iteration:\n",
      "W1: [[0.25176248]]\n",
      "W2: [[0.14783925]]\n",
      "b: 0.002904\n",
      "cost: 0.001683\n",
      "After 1499 iteration:\n",
      "W1: [[0.25176248]]\n",
      "W2: [[0.14783925]]\n",
      "b: 0.002904\n",
      "cost: 0.001683\n",
      "After 1999 iteration:\n",
      "W1: [[0.25176248]]\n",
      "W2: [[0.14783925]]\n",
      "b: 0.002904\n",
      "cost: 0.001683\n",
      "After 2499 iteration:\n",
      "W1: [[0.25176248]]\n",
      "W2: [[0.14783925]]\n",
      "b: 0.002904\n",
      "cost: 0.001683\n",
      "After 2999 iteration:\n",
      "W1: [[0.25176248]]\n",
      "W2: [[0.14783925]]\n",
      "b: 0.002904\n",
      "cost: 0.001683\n",
      "After 3499 iteration:\n",
      "W1: [[0.25176248]]\n",
      "W2: [[0.14783925]]\n",
      "b: 0.002904\n",
      "cost: 0.001683\n",
      "After 3999 iteration:\n",
      "W1: [[0.25176248]]\n",
      "W2: [[0.14783925]]\n",
      "b: 0.002904\n",
      "cost: 0.001683\n",
      "After 4499 iteration:\n",
      "W1: [[0.25176248]]\n",
      "W2: [[0.14783925]]\n",
      "b: 0.002904\n",
      "cost: 0.001683\n",
      "After 4999 iteration:\n",
      "W1: [[0.25176248]]\n",
      "W2: [[0.14783925]]\n",
      "b: 0.002904\n",
      "cost: 0.001683\n"
     ]
    }
   ],
   "source": [
    "trainWithMultiplePointsPerEpoch(5000, train_step_ftrl, len(oilData))"
   ]
  },
  {
   "cell_type": "code",
   "execution_count": null,
   "metadata": {
    "collapsed": true
   },
   "outputs": [],
   "source": []
  }
 ],
 "metadata": {
  "kernelspec": {
   "display_name": "Python 2",
   "language": "python",
   "name": "python2"
  },
  "language_info": {
   "codemirror_mode": {
    "name": "ipython",
    "version": 2
   },
   "file_extension": ".py",
   "mimetype": "text/x-python",
   "name": "python",
   "nbconvert_exporter": "python",
   "pygments_lexer": "ipython2",
   "version": "2.7.15"
  }
 },
 "nbformat": 4,
 "nbformat_minor": 2
}
