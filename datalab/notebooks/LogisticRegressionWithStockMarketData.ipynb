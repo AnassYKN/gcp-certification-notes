{
 "cells": [
  {
   "cell_type": "code",
   "execution_count": 1,
   "metadata": {},
   "outputs": [],
   "source": [
    "import pandas as pd \n",
    "import numpy as np"
   ]
  },
  {
   "cell_type": "code",
   "execution_count": 2,
   "metadata": {},
   "outputs": [],
   "source": [
    "def read_goog_sp500_dataframe():\n",
    "  \"\"\"Returns a dataframe with the results for Google and S&P 500\"\"\"\n",
    "  \n",
    "  # Point to where you've stored the CSV file on your local machine\n",
    "  googFile = 'data/GOOG.csv'\n",
    "  spFile = 'data/SP_500.csv'\n",
    "\n",
    "  goog = pd.read_csv(googFile, sep=\",\", usecols=[0,5], names=['Date','Goog'], header=0)\n",
    "  sp = pd.read_csv(spFile, sep=\",\", usecols=[0,5], names=['Date','SP500'], header=0)\n",
    "\n",
    "  goog['SP500'] = sp['SP500']\n",
    "\n",
    "  # The date object is a string, format it as a date\n",
    "  goog['Date'] = pd.to_datetime(goog['Date'], format='%Y-%m-%d')\n",
    "\n",
    "  goog = goog.sort_values(['Date'], ascending=[True])\n",
    "\n",
    "  returns = goog[[key for key in dict(goog.dtypes) if dict(goog.dtypes)[key] in ['float64', 'int64']]]\\\n",
    "            .pct_change()\n",
    "\n",
    "  return returns"
   ]
  },
  {
   "cell_type": "code",
   "execution_count": 17,
   "metadata": {},
   "outputs": [],
   "source": [
    "def read_goog_sp500_logistic_data():\n",
    "  \"\"\"Returns a dataframe with the results for Google and \n",
    "  S&P 500 set up for logistic regression\"\"\"\n",
    "  returns = read_goog_sp500_dataframe()\n",
    "\n",
    "  returns['Intercept'] = 1\n",
    "\n",
    "  # Leave out the first row since it will not have a prediction for UP/DOWN\n",
    "  # Leave out the last row as it will not have a value for returns\n",
    "  # Resultant dataframe with the S&P500 and intercept values of all 1s\n",
    "  xData = np.array(returns[[\"SP500\", \"Intercept\"]][2:-1])\n",
    "\n",
    "  yData = (returns[\"Goog\"] > 0)[2:-1]\n",
    "\n",
    "  return (xData, yData)"
   ]
  },
  {
   "cell_type": "code",
   "execution_count": 13,
   "metadata": {},
   "outputs": [],
   "source": [
    "def read_goog_sp500_data():\n",
    "  \"\"\"Returns a tuple with 2 fields, the returns for Google and the S&P 500.\n",
    "  Each of the returns are in the form of a 1D array\"\"\"\n",
    "\n",
    "  returns = read_goog_sp500_dataframe()\n",
    "\n",
    "  # Filter out the very first row which does not have any value for returns\n",
    "  xData = np.array(returns[\"SP500\"])[2:]\n",
    "  yData = np.array(returns[\"Goog\"])[2:]\n",
    "\n",
    "  return (xData, yData)"
   ]
  },
  {
   "cell_type": "code",
   "execution_count": 14,
   "metadata": {},
   "outputs": [],
   "source": [
    "def read_xom_oil_nasdaq_data():\n",
    "  \"\"\"Returns a tuple with 3 fields, the returns for Exxon Mobil, Nasdaq and oil prices.\n",
    "  Each of the returns are in the form of a 1D array\"\"\"\n",
    "\n",
    "  def readFile(filename):\n",
    "    # Only read in the date and price at columns 0 and 5\n",
    "    data = pd.read_csv(filename, sep=\",\", usecols=[0, 5], names=['Date', 'Price'], header=0)\n",
    "\n",
    "    # Sort the data in ascending order of date so returns can be calculated\n",
    "    data['Date'] = pd.to_datetime(data['Date'], format='%Y-%m-%d')\n",
    "\n",
    "    data = data.sort_values(['Date'], ascending=[True])\n",
    "\n",
    "    # Exclude the date from the percentage change calculation\n",
    "    returns = data[[key for key in dict(data.dtypes) if dict(data.dtypes)[key] in ['float64', 'int64']]]\\\n",
    "              .pct_change()\n",
    "\n",
    "    # Filter out the very first row which has no returns associated with it\n",
    "    return np.array(returns[\"Price\"])[1:]\n",
    "\n",
    "  nasdaqData = readFile('data/NASDAQ.csv')\n",
    "  oilData = readFile('data/USO.csv')\n",
    "  xomData = readFile('data/XOM.csv')\n",
    "\n",
    "  return (nasdaqData, oilData, xomData)"
   ]
  },
  {
   "cell_type": "code",
   "execution_count": 8,
   "metadata": {},
   "outputs": [
    {
     "name": "stderr",
     "output_type": "stream",
     "text": [
      "/usr/local/envs/py2env/lib/python2.7/site-packages/statsmodels/compat/pandas.py:56: FutureWarning: The pandas.core.datetools module is deprecated and will be removed in a future version. Please use the pandas.tseries module instead.\n",
      "  from pandas.core import datetools\n"
     ]
    }
   ],
   "source": [
    "import pandas as pd \n",
    "import numpy as np\n",
    "import statsmodels.api as sm"
   ]
  },
  {
   "cell_type": "code",
   "execution_count": 18,
   "metadata": {},
   "outputs": [],
   "source": [
    "xData, yData = read_goog_sp500_logistic_data()"
   ]
  },
  {
   "cell_type": "code",
   "execution_count": 21,
   "metadata": {},
   "outputs": [],
   "source": [
    "logit = sm.Logit(yData, xData)"
   ]
  },
  {
   "cell_type": "code",
   "execution_count": 23,
   "metadata": {},
   "outputs": [
    {
     "name": "stdout",
     "output_type": "stream",
     "text": [
      "Optimization terminated successfully.\n",
      "         Current function value: 0.538306\n",
      "         Iterations 6\n"
     ]
    }
   ],
   "source": [
    "# Fit the Logistic model\n",
    "result = logit.fit()"
   ]
  },
  {
   "cell_type": "code",
   "execution_count": 24,
   "metadata": {},
   "outputs": [],
   "source": [
    "# All values >0.5 predict an up day for Google\n",
    "predictions = (result.predict(xData) > 0.5)"
   ]
  },
  {
   "cell_type": "code",
   "execution_count": 25,
   "metadata": {},
   "outputs": [],
   "source": [
    "# Count the number of times the actual up days match the predicted up days\n",
    "num_accurate_predictions = (list(yData == predictions)).count(True)"
   ]
  },
  {
   "cell_type": "code",
   "execution_count": 26,
   "metadata": {},
   "outputs": [],
   "source": [
    "pctAccuracy = float(num_accurate_predictions) / float(len(predictions))"
   ]
  },
  {
   "cell_type": "code",
   "execution_count": 27,
   "metadata": {},
   "outputs": [
    {
     "name": "stdout",
     "output_type": "stream",
     "text": [
      "Accuracy:  0.731707317073\n"
     ]
    }
   ],
   "source": [
    "print \"Accuracy: \", pctAccuracy"
   ]
  },
  {
   "cell_type": "code",
   "execution_count": 30,
   "metadata": {},
   "outputs": [
    {
     "name": "stderr",
     "output_type": "stream",
     "text": [
      "/usr/local/envs/py2env/lib/python2.7/site-packages/h5py/__init__.py:36: FutureWarning: Conversion of the second argument of issubdtype from `float` to `np.floating` is deprecated. In future, it will be treated as `np.float64 == np.dtype(float).type`.\n",
      "  from ._conv import register_converters as _register_converters\n"
     ]
    }
   ],
   "source": [
    "import tensorflow as tf"
   ]
  },
  {
   "cell_type": "code",
   "execution_count": 31,
   "metadata": {},
   "outputs": [],
   "source": [
    "W = tf.Variable(tf.ones([1, 2]), name=\"W\")\n",
    "b = tf.Variable(tf.zeros([2]), name=\"b\")"
   ]
  },
  {
   "cell_type": "code",
   "execution_count": 32,
   "metadata": {},
   "outputs": [],
   "source": [
    "x = tf.placeholder(tf.float32, [None, 1], name=\"x\")"
   ]
  },
  {
   "cell_type": "code",
   "execution_count": 33,
   "metadata": {},
   "outputs": [],
   "source": [
    "y_ = tf.placeholder(tf.float32, [None, 2], name=\"y_\")\n",
    "\n",
    "y = tf.matmul(x, W) + b"
   ]
  },
  {
   "cell_type": "code",
   "execution_count": 52,
   "metadata": {},
   "outputs": [],
   "source": [
    "# Logits is the affine transformation\n",
    "cross_entropy = tf.reduce_mean(tf.nn.softmax_cross_entropy_with_logits(labels=y_, logits=y))"
   ]
  },
  {
   "cell_type": "code",
   "execution_count": 35,
   "metadata": {},
   "outputs": [],
   "source": [
    "train_step = tf.train.GradientDescentOptimizer(0.5).minimize(cross_entropy)"
   ]
  },
  {
   "cell_type": "code",
   "execution_count": 36,
   "metadata": {},
   "outputs": [],
   "source": [
    "# All returns in a 2D array\n",
    "# [[-0.02184618]\n",
    "#  [ 0.00997998]\n",
    "#  [ 0.04329069]\n",
    "#  [ 0.03254923]\n",
    "#  [-0.01781632]]\n",
    "all_xs = np.expand_dims(xData[:,0], axis=1)"
   ]
  },
  {
   "cell_type": "code",
   "execution_count": 53,
   "metadata": {},
   "outputs": [],
   "source": [
    "# Another 2D array with 0 1 or 1 0 in each row\n",
    "all_ys = np.array([([1,0] if yEl == True else [0,1]) for yEl in yData])"
   ]
  },
  {
   "cell_type": "code",
   "execution_count": 55,
   "metadata": {},
   "outputs": [],
   "source": [
    "dataset_size = len(all_xs)"
   ]
  },
  {
   "cell_type": "code",
   "execution_count": 56,
   "metadata": {},
   "outputs": [],
   "source": [
    "def trainWithMultiplePointsPerEpoch(steps, train_step, batch_size):\n",
    "  init = tf.global_variables_initializer()\n",
    "\n",
    "  with tf.Session() as sess:\n",
    "    sess.run(init)\n",
    "\n",
    "    for i in range(steps):\n",
    "      if dataset_size == batch_size:\n",
    "        batch_start_idx = 0\n",
    "      elif dataset_size < batch_size:\n",
    "        raise ValueError(\"dataset_size: %d, must be greater than batch_size: %d\" % (dataset_size, batch_size))\n",
    "      else:\n",
    "        batch_start_idx = (i * batch_size) % (dataset_size)\n",
    "\n",
    "      batch_end_idx = batch_start_idx + batch_size\n",
    "\n",
    "      batch_xs = all_xs[batch_start_idx : batch_end_idx]\n",
    "      batch_ys = all_ys[batch_start_idx : batch_end_idx]\n",
    "\n",
    "      feed = { x: batch_xs, y_: batch_ys }\n",
    "\n",
    "      sess.run(train_step, feed_dict=feed)\n",
    "\n",
    "      if (i + 1) % 1000 == 0:\n",
    "        print(\"After %d iteration:\" % i)\n",
    "        print(sess.run(W))\n",
    "        print(sess.run(b))\n",
    "\n",
    "        print(\"cross entropy: %f\" % sess.run(cross_entropy, feed_dict=feed))\n",
    "\n",
    "    # Test model\n",
    "    correct_prediction = tf.equal(tf.argmax(y_, 1), tf.argmax(y, 1))\n",
    "\n",
    "    # Calculate accuracy\n",
    "    accuracy = tf.reduce_mean(tf.cast(correct_prediction, tf.float32))\n",
    "\n",
    "    print(\"Accuracy: %f\" % sess.run(accuracy, feed_dict={x: all_xs, y_: all_ys}))"
   ]
  },
  {
   "cell_type": "code",
   "execution_count": 57,
   "metadata": {},
   "outputs": [
    {
     "name": "stdout",
     "output_type": "stream",
     "text": [
      "After 999 iteration:\n",
      "[[ 5.246492  -3.2464924]]\n",
      "[ 0.13791329 -0.13791326]\n",
      "cross entropy: 0.607850\n",
      "After 1999 iteration:\n",
      "[[ 8.041786  -6.0417876]]\n",
      "[ 0.12784068 -0.12784092]\n",
      "cross entropy: 0.576222\n",
      "After 2999 iteration:\n",
      "[[10.008763 -8.008764]]\n",
      "[ 0.12074541 -0.12074568]\n",
      "cross entropy: 0.560615\n",
      "After 3999 iteration:\n",
      "[[11.462807 -9.462808]]\n",
      "[ 0.1153966  -0.11539679]\n",
      "cross entropy: 0.552102\n",
      "After 4999 iteration:\n",
      "[[ 12.574228 -10.57423 ]]\n",
      "[ 0.11123163 -0.11123197]\n",
      "cross entropy: 0.547135\n",
      "After 5999 iteration:\n",
      "[[ 13.443815 -11.443817]]\n",
      "[ 0.10792354 -0.10792376]\n",
      "cross entropy: 0.544097\n",
      "After 6999 iteration:\n",
      "[[ 14.135796  -12.1357975]]\n",
      "[ 0.10525967 -0.10525974]\n",
      "cross entropy: 0.542174\n",
      "After 7999 iteration:\n",
      "[[ 14.693427 -12.693429]]\n",
      "[ 0.1030928  -0.10309294]\n",
      "cross entropy: 0.540925\n",
      "After 8999 iteration:\n",
      "[[ 15.14714  -13.147141]]\n",
      "[ 0.10131671 -0.10131701]\n",
      "cross entropy: 0.540099\n",
      "After 9999 iteration:\n",
      "[[ 15.519077 -13.519079]]\n",
      "[ 0.09985222 -0.09985264]\n",
      "cross entropy: 0.539544\n",
      "After 10999 iteration:\n",
      "[[ 15.825793 -13.825795]]\n",
      "[ 0.09863894 -0.09863936]\n",
      "cross entropy: 0.539167\n",
      "After 11999 iteration:\n",
      "[[ 16.079931 -14.079929]]\n",
      "[ 0.0976298  -0.09763039]\n",
      "cross entropy: 0.538908\n",
      "After 12999 iteration:\n",
      "[[ 16.291304 -14.291299]]\n",
      "[ 0.09678782 -0.09678873]\n",
      "cross entropy: 0.538728\n",
      "After 13999 iteration:\n",
      "[[ 16.46767  -14.467659]]\n",
      "[ 0.0960837  -0.09608456]\n",
      "cross entropy: 0.538604\n",
      "After 14999 iteration:\n",
      "[[ 16.615181 -14.61518 ]]\n",
      "[ 0.09549351 -0.09549443]\n",
      "cross entropy: 0.538516\n",
      "After 15999 iteration:\n",
      "[[ 16.738838 -14.738834]]\n",
      "[ 0.09499796 -0.09499887]\n",
      "cross entropy: 0.538455\n",
      "After 16999 iteration:\n",
      "[[ 16.842665 -14.842672]]\n",
      "[ 0.09458131 -0.09458219]\n",
      "cross entropy: 0.538412\n",
      "After 17999 iteration:\n",
      "[[ 16.929977 -14.929987]]\n",
      "[ 0.09423039 -0.09423149]\n",
      "cross entropy: 0.538381\n",
      "After 18999 iteration:\n",
      "[[ 17.00351  -15.003507]]\n",
      "[ 0.09393455 -0.09393594]\n",
      "cross entropy: 0.538360\n",
      "After 19999 iteration:\n",
      "[[ 17.065454 -15.06547 ]]\n",
      "[ 0.09368517 -0.09368666]\n",
      "cross entropy: 0.538344\n",
      "Accuracy: 0.731707\n"
     ]
    }
   ],
   "source": [
    "trainWithMultiplePointsPerEpoch(20000, train_step, dataset_size)"
   ]
  },
  {
   "cell_type": "code",
   "execution_count": null,
   "metadata": {
    "collapsed": true
   },
   "outputs": [],
   "source": []
  }
 ],
 "metadata": {
  "kernelspec": {
   "display_name": "Python 2",
   "language": "python",
   "name": "python2"
  },
  "language_info": {
   "codemirror_mode": {
    "name": "ipython",
    "version": 2
   },
   "file_extension": ".py",
   "mimetype": "text/x-python",
   "name": "python",
   "nbconvert_exporter": "python",
   "pygments_lexer": "ipython2",
   "version": "2.7.15"
  }
 },
 "nbformat": 4,
 "nbformat_minor": 2
}
